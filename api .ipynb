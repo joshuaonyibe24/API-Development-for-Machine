{
 "cells": [
  {
   "cell_type": "code",
   "execution_count": 1,
   "id": "cbefb9f8",
   "metadata": {},
   "outputs": [],
   "source": [
    "import requests"
   ]
  },
  {
   "cell_type": "code",
   "execution_count": 2,
   "id": "3add8479",
   "metadata": {},
   "outputs": [],
   "source": [
    "url = 'http://api.open-notify.org/astros.json'\n",
    "\n",
    "data = requests.get(url)"
   ]
  },
  {
   "cell_type": "code",
   "execution_count": 3,
   "id": "eb0e41f6",
   "metadata": {},
   "outputs": [
    {
     "data": {
      "text/plain": [
       "200"
      ]
     },
     "execution_count": 3,
     "metadata": {},
     "output_type": "execute_result"
    }
   ],
   "source": [
    "data.status_code"
   ]
  },
  {
   "cell_type": "code",
   "execution_count": 4,
   "id": "a73a23d1",
   "metadata": {},
   "outputs": [
    {
     "data": {
      "text/plain": [
       "{'message': 'success',\n",
       " 'people': [{'name': 'Sergey Prokopyev', 'craft': 'ISS'},\n",
       "  {'name': 'Dmitry Petelin', 'craft': 'ISS'},\n",
       "  {'name': 'Frank Rubio', 'craft': 'ISS'},\n",
       "  {'name': 'Nicole Mann', 'craft': 'ISS'},\n",
       "  {'name': 'Josh Cassada', 'craft': 'ISS'},\n",
       "  {'name': 'Koichi Wakata', 'craft': 'ISS'},\n",
       "  {'name': 'Anna Kikina', 'craft': 'ISS'},\n",
       "  {'name': 'Fei Junlong', 'craft': 'Shenzhou 15'},\n",
       "  {'name': 'Deng Qingming', 'craft': 'Shenzhou 15'},\n",
       "  {'name': 'Zhang Lu', 'craft': 'Shenzhou 15'}],\n",
       " 'number': 10}"
      ]
     },
     "execution_count": 4,
     "metadata": {},
     "output_type": "execute_result"
    }
   ],
   "source": [
    "data_json = data.json()\n",
    "\n",
    "data_json"
   ]
  },
  {
   "cell_type": "code",
   "execution_count": 5,
   "id": "0e97c566",
   "metadata": {},
   "outputs": [
    {
     "name": "stdout",
     "output_type": "stream",
     "text": [
      "[{'name': 'Sergey Prokopyev', 'craft': 'ISS'}, {'name': 'Dmitry Petelin', 'craft': 'ISS'}, {'name': 'Frank Rubio', 'craft': 'ISS'}, {'name': 'Nicole Mann', 'craft': 'ISS'}, {'name': 'Josh Cassada', 'craft': 'ISS'}, {'name': 'Koichi Wakata', 'craft': 'ISS'}, {'name': 'Anna Kikina', 'craft': 'ISS'}, {'name': 'Fei Junlong', 'craft': 'Shenzhou 15'}, {'name': 'Deng Qingming', 'craft': 'Shenzhou 15'}, {'name': 'Zhang Lu', 'craft': 'Shenzhou 15'}]\n"
     ]
    }
   ],
   "source": [
    "print(data_json['people'])"
   ]
  },
  {
   "cell_type": "code",
   "execution_count": 6,
   "id": "7cad8eba",
   "metadata": {},
   "outputs": [
    {
     "name": "stdout",
     "output_type": "stream",
     "text": [
      "   message                                             people  number\n",
      "0  success       {'name': 'Sergey Prokopyev', 'craft': 'ISS'}      10\n",
      "1  success         {'name': 'Dmitry Petelin', 'craft': 'ISS'}      10\n",
      "2  success            {'name': 'Frank Rubio', 'craft': 'ISS'}      10\n",
      "3  success            {'name': 'Nicole Mann', 'craft': 'ISS'}      10\n",
      "4  success           {'name': 'Josh Cassada', 'craft': 'ISS'}      10\n",
      "5  success          {'name': 'Koichi Wakata', 'craft': 'ISS'}      10\n",
      "6  success            {'name': 'Anna Kikina', 'craft': 'ISS'}      10\n",
      "7  success    {'name': 'Fei Junlong', 'craft': 'Shenzhou 15'}      10\n",
      "8  success  {'name': 'Deng Qingming', 'craft': 'Shenzhou 15'}      10\n",
      "9  success       {'name': 'Zhang Lu', 'craft': 'Shenzhou 15'}      10\n"
     ]
    }
   ],
   "source": [
    "import pandas as pd\n",
    "\n",
    "\n",
    "data = pd.read_json('http://api.open-notify.org/astros.json')\n",
    "\n",
    "\n",
    "print(data)"
   ]
  },
  {
   "cell_type": "code",
   "execution_count": 7,
   "id": "70ae6257",
   "metadata": {},
   "outputs": [
    {
     "data": {
      "text/html": [
       "<div>\n",
       "<style scoped>\n",
       "    .dataframe tbody tr th:only-of-type {\n",
       "        vertical-align: middle;\n",
       "    }\n",
       "\n",
       "    .dataframe tbody tr th {\n",
       "        vertical-align: top;\n",
       "    }\n",
       "\n",
       "    .dataframe thead th {\n",
       "        text-align: right;\n",
       "    }\n",
       "</style>\n",
       "<table border=\"1\" class=\"dataframe\">\n",
       "  <thead>\n",
       "    <tr style=\"text-align: right;\">\n",
       "      <th></th>\n",
       "      <th>message</th>\n",
       "      <th>people</th>\n",
       "      <th>number</th>\n",
       "    </tr>\n",
       "  </thead>\n",
       "  <tbody>\n",
       "    <tr>\n",
       "      <th>0</th>\n",
       "      <td>success</td>\n",
       "      <td>{'name': 'Sergey Prokopyev', 'craft': 'ISS'}</td>\n",
       "      <td>10</td>\n",
       "    </tr>\n",
       "    <tr>\n",
       "      <th>1</th>\n",
       "      <td>success</td>\n",
       "      <td>{'name': 'Dmitry Petelin', 'craft': 'ISS'}</td>\n",
       "      <td>10</td>\n",
       "    </tr>\n",
       "    <tr>\n",
       "      <th>2</th>\n",
       "      <td>success</td>\n",
       "      <td>{'name': 'Frank Rubio', 'craft': 'ISS'}</td>\n",
       "      <td>10</td>\n",
       "    </tr>\n",
       "    <tr>\n",
       "      <th>3</th>\n",
       "      <td>success</td>\n",
       "      <td>{'name': 'Nicole Mann', 'craft': 'ISS'}</td>\n",
       "      <td>10</td>\n",
       "    </tr>\n",
       "    <tr>\n",
       "      <th>4</th>\n",
       "      <td>success</td>\n",
       "      <td>{'name': 'Josh Cassada', 'craft': 'ISS'}</td>\n",
       "      <td>10</td>\n",
       "    </tr>\n",
       "    <tr>\n",
       "      <th>5</th>\n",
       "      <td>success</td>\n",
       "      <td>{'name': 'Koichi Wakata', 'craft': 'ISS'}</td>\n",
       "      <td>10</td>\n",
       "    </tr>\n",
       "    <tr>\n",
       "      <th>6</th>\n",
       "      <td>success</td>\n",
       "      <td>{'name': 'Anna Kikina', 'craft': 'ISS'}</td>\n",
       "      <td>10</td>\n",
       "    </tr>\n",
       "    <tr>\n",
       "      <th>7</th>\n",
       "      <td>success</td>\n",
       "      <td>{'name': 'Fei Junlong', 'craft': 'Shenzhou 15'}</td>\n",
       "      <td>10</td>\n",
       "    </tr>\n",
       "    <tr>\n",
       "      <th>8</th>\n",
       "      <td>success</td>\n",
       "      <td>{'name': 'Deng Qingming', 'craft': 'Shenzhou 15'}</td>\n",
       "      <td>10</td>\n",
       "    </tr>\n",
       "    <tr>\n",
       "      <th>9</th>\n",
       "      <td>success</td>\n",
       "      <td>{'name': 'Zhang Lu', 'craft': 'Shenzhou 15'}</td>\n",
       "      <td>10</td>\n",
       "    </tr>\n",
       "  </tbody>\n",
       "</table>\n",
       "</div>"
      ],
      "text/plain": [
       "   message                                             people  number\n",
       "0  success       {'name': 'Sergey Prokopyev', 'craft': 'ISS'}      10\n",
       "1  success         {'name': 'Dmitry Petelin', 'craft': 'ISS'}      10\n",
       "2  success            {'name': 'Frank Rubio', 'craft': 'ISS'}      10\n",
       "3  success            {'name': 'Nicole Mann', 'craft': 'ISS'}      10\n",
       "4  success           {'name': 'Josh Cassada', 'craft': 'ISS'}      10\n",
       "5  success          {'name': 'Koichi Wakata', 'craft': 'ISS'}      10\n",
       "6  success            {'name': 'Anna Kikina', 'craft': 'ISS'}      10\n",
       "7  success    {'name': 'Fei Junlong', 'craft': 'Shenzhou 15'}      10\n",
       "8  success  {'name': 'Deng Qingming', 'craft': 'Shenzhou 15'}      10\n",
       "9  success       {'name': 'Zhang Lu', 'craft': 'Shenzhou 15'}      10"
      ]
     },
     "execution_count": 7,
     "metadata": {},
     "output_type": "execute_result"
    }
   ],
   "source": [
    "data"
   ]
  },
  {
   "cell_type": "code",
   "execution_count": null,
   "id": "2fe04a24",
   "metadata": {},
   "outputs": [],
   "source": []
  }
 ],
 "metadata": {
  "kernelspec": {
   "display_name": "Python 3 (ipykernel)",
   "language": "python",
   "name": "python3"
  },
  "language_info": {
   "codemirror_mode": {
    "name": "ipython",
    "version": 3
   },
   "file_extension": ".py",
   "mimetype": "text/x-python",
   "name": "python",
   "nbconvert_exporter": "python",
   "pygments_lexer": "ipython3",
   "version": "3.9.13"
  }
 },
 "nbformat": 4,
 "nbformat_minor": 5
}
